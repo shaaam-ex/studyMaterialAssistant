{
  "cells": [
    {
      "cell_type": "code",
      "execution_count": null,
      "metadata": {
        "colab": {
          "base_uri": "https://localhost:8080/"
        },
        "id": "VvXNLsSCIdOf",
        "outputId": "2b9ca7f6-47a4-4bd3-cf79-6829b775fb9f"
      },
      "outputs": [
        {
          "name": "stdout",
          "output_type": "stream",
          "text": [
            "Requirement already satisfied: gradio in /usr/local/lib/python3.11/dist-packages (5.31.0)\n",
            "Requirement already satisfied: aiofiles<25.0,>=22.0 in /usr/local/lib/python3.11/dist-packages (from gradio) (24.1.0)\n",
            "Requirement already satisfied: anyio<5.0,>=3.0 in /usr/local/lib/python3.11/dist-packages (from gradio) (4.9.0)\n",
            "Requirement already satisfied: fastapi<1.0,>=0.115.2 in /usr/local/lib/python3.11/dist-packages (from gradio) (0.115.12)\n",
            "Requirement already satisfied: ffmpy in /usr/local/lib/python3.11/dist-packages (from gradio) (0.5.0)\n",
            "Requirement already satisfied: gradio-client==1.10.1 in /usr/local/lib/python3.11/dist-packages (from gradio) (1.10.1)\n",
            "Requirement already satisfied: groovy~=0.1 in /usr/local/lib/python3.11/dist-packages (from gradio) (0.1.2)\n",
            "Requirement already satisfied: httpx>=0.24.1 in /usr/local/lib/python3.11/dist-packages (from gradio) (0.28.1)\n",
            "Requirement already satisfied: huggingface-hub>=0.28.1 in /usr/local/lib/python3.11/dist-packages (from gradio) (0.32.2)\n",
            "Requirement already satisfied: jinja2<4.0 in /usr/local/lib/python3.11/dist-packages (from gradio) (3.1.6)\n",
            "Requirement already satisfied: markupsafe<4.0,>=2.0 in /usr/local/lib/python3.11/dist-packages (from gradio) (3.0.2)\n",
            "Requirement already satisfied: numpy<3.0,>=1.0 in /usr/local/lib/python3.11/dist-packages (from gradio) (2.0.2)\n",
            "Requirement already satisfied: orjson~=3.0 in /usr/local/lib/python3.11/dist-packages (from gradio) (3.10.18)\n",
            "Requirement already satisfied: packaging in /usr/local/lib/python3.11/dist-packages (from gradio) (24.2)\n",
            "Requirement already satisfied: pandas<3.0,>=1.0 in /usr/local/lib/python3.11/dist-packages (from gradio) (2.2.2)\n",
            "Requirement already satisfied: pillow<12.0,>=8.0 in /usr/local/lib/python3.11/dist-packages (from gradio) (11.2.1)\n",
            "Requirement already satisfied: pydantic<2.12,>=2.0 in /usr/local/lib/python3.11/dist-packages (from gradio) (2.11.5)\n",
            "Requirement already satisfied: pydub in /usr/local/lib/python3.11/dist-packages (from gradio) (0.25.1)\n",
            "Requirement already satisfied: python-multipart>=0.0.18 in /usr/local/lib/python3.11/dist-packages (from gradio) (0.0.20)\n",
            "Requirement already satisfied: pyyaml<7.0,>=5.0 in /usr/local/lib/python3.11/dist-packages (from gradio) (6.0.2)\n",
            "Requirement already satisfied: ruff>=0.9.3 in /usr/local/lib/python3.11/dist-packages (from gradio) (0.11.12)\n",
            "Requirement already satisfied: safehttpx<0.2.0,>=0.1.6 in /usr/local/lib/python3.11/dist-packages (from gradio) (0.1.6)\n",
            "Requirement already satisfied: semantic-version~=2.0 in /usr/local/lib/python3.11/dist-packages (from gradio) (2.10.0)\n",
            "Requirement already satisfied: starlette<1.0,>=0.40.0 in /usr/local/lib/python3.11/dist-packages (from gradio) (0.46.2)\n",
            "Requirement already satisfied: tomlkit<0.14.0,>=0.12.0 in /usr/local/lib/python3.11/dist-packages (from gradio) (0.13.2)\n",
            "Requirement already satisfied: typer<1.0,>=0.12 in /usr/local/lib/python3.11/dist-packages (from gradio) (0.16.0)\n",
            "Requirement already satisfied: typing-extensions~=4.0 in /usr/local/lib/python3.11/dist-packages (from gradio) (4.13.2)\n",
            "Requirement already satisfied: uvicorn>=0.14.0 in /usr/local/lib/python3.11/dist-packages (from gradio) (0.34.2)\n",
            "Requirement already satisfied: fsspec in /usr/local/lib/python3.11/dist-packages (from gradio-client==1.10.1->gradio) (2025.3.2)\n",
            "Requirement already satisfied: websockets<16.0,>=10.0 in /usr/local/lib/python3.11/dist-packages (from gradio-client==1.10.1->gradio) (15.0.1)\n",
            "Requirement already satisfied: idna>=2.8 in /usr/local/lib/python3.11/dist-packages (from anyio<5.0,>=3.0->gradio) (3.10)\n",
            "Requirement already satisfied: sniffio>=1.1 in /usr/local/lib/python3.11/dist-packages (from anyio<5.0,>=3.0->gradio) (1.3.1)\n",
            "Requirement already satisfied: certifi in /usr/local/lib/python3.11/dist-packages (from httpx>=0.24.1->gradio) (2025.4.26)\n",
            "Requirement already satisfied: httpcore==1.* in /usr/local/lib/python3.11/dist-packages (from httpx>=0.24.1->gradio) (1.0.9)\n",
            "Requirement already satisfied: h11>=0.16 in /usr/local/lib/python3.11/dist-packages (from httpcore==1.*->httpx>=0.24.1->gradio) (0.16.0)\n",
            "Requirement already satisfied: filelock in /usr/local/lib/python3.11/dist-packages (from huggingface-hub>=0.28.1->gradio) (3.18.0)\n",
            "Requirement already satisfied: requests in /usr/local/lib/python3.11/dist-packages (from huggingface-hub>=0.28.1->gradio) (2.32.3)\n",
            "Requirement already satisfied: tqdm>=4.42.1 in /usr/local/lib/python3.11/dist-packages (from huggingface-hub>=0.28.1->gradio) (4.67.1)\n",
            "Requirement already satisfied: hf-xet<2.0.0,>=1.1.2 in /usr/local/lib/python3.11/dist-packages (from huggingface-hub>=0.28.1->gradio) (1.1.2)\n",
            "Requirement already satisfied: python-dateutil>=2.8.2 in /usr/local/lib/python3.11/dist-packages (from pandas<3.0,>=1.0->gradio) (2.9.0.post0)\n",
            "Requirement already satisfied: pytz>=2020.1 in /usr/local/lib/python3.11/dist-packages (from pandas<3.0,>=1.0->gradio) (2025.2)\n",
            "Requirement already satisfied: tzdata>=2022.7 in /usr/local/lib/python3.11/dist-packages (from pandas<3.0,>=1.0->gradio) (2025.2)\n",
            "Requirement already satisfied: annotated-types>=0.6.0 in /usr/local/lib/python3.11/dist-packages (from pydantic<2.12,>=2.0->gradio) (0.7.0)\n",
            "Requirement already satisfied: pydantic-core==2.33.2 in /usr/local/lib/python3.11/dist-packages (from pydantic<2.12,>=2.0->gradio) (2.33.2)\n",
            "Requirement already satisfied: typing-inspection>=0.4.0 in /usr/local/lib/python3.11/dist-packages (from pydantic<2.12,>=2.0->gradio) (0.4.1)\n",
            "Requirement already satisfied: click>=8.0.0 in /usr/local/lib/python3.11/dist-packages (from typer<1.0,>=0.12->gradio) (8.2.1)\n",
            "Requirement already satisfied: shellingham>=1.3.0 in /usr/local/lib/python3.11/dist-packages (from typer<1.0,>=0.12->gradio) (1.5.4)\n",
            "Requirement already satisfied: rich>=10.11.0 in /usr/local/lib/python3.11/dist-packages (from typer<1.0,>=0.12->gradio) (13.9.4)\n",
            "Requirement already satisfied: six>=1.5 in /usr/local/lib/python3.11/dist-packages (from python-dateutil>=2.8.2->pandas<3.0,>=1.0->gradio) (1.17.0)\n",
            "Requirement already satisfied: markdown-it-py>=2.2.0 in /usr/local/lib/python3.11/dist-packages (from rich>=10.11.0->typer<1.0,>=0.12->gradio) (3.0.0)\n",
            "Requirement already satisfied: pygments<3.0.0,>=2.13.0 in /usr/local/lib/python3.11/dist-packages (from rich>=10.11.0->typer<1.0,>=0.12->gradio) (2.19.1)\n",
            "Requirement already satisfied: charset-normalizer<4,>=2 in /usr/local/lib/python3.11/dist-packages (from requests->huggingface-hub>=0.28.1->gradio) (3.4.2)\n",
            "Requirement already satisfied: urllib3<3,>=1.21.1 in /usr/local/lib/python3.11/dist-packages (from requests->huggingface-hub>=0.28.1->gradio) (2.4.0)\n",
            "Requirement already satisfied: mdurl~=0.1 in /usr/local/lib/python3.11/dist-packages (from markdown-it-py>=2.2.0->rich>=10.11.0->typer<1.0,>=0.12->gradio) (0.1.2)\n"
          ]
        }
      ],
      "source": [
        "!pip install gradio"
      ]
    },
    {
      "cell_type": "code",
      "execution_count": null,
      "metadata": {
        "id": "mFHtZOFcIeS4"
      },
      "outputs": [],
      "source": [
        "from typing import List, Dict, Optional\n",
        "import requests\n",
        "\n",
        "# A simple Agent base class\n",
        "class Agent:\n",
        "    def run(self, *args, **kwargs):\n",
        "        raise NotImplementedError\n",
        "\n",
        "\n",
        "class OpenRouterLLM:\n",
        "    \"\"\"OpenRouter LLM wrapper to call the chat completions API.\"\"\"\n",
        "\n",
        "    def __init__(self, api_key: str, model_name: str = \"gpt-4o-mini\"):\n",
        "        self.api_key = api_key\n",
        "        self.model_name = model_name\n",
        "        self.endpoint = \"https://openrouter.ai/api/v1/chat/completions\"\n",
        "\n",
        "    def call(\n",
        "        self,\n",
        "        messages: List[Dict[str, str]],\n",
        "        temperature: float = 0.7,\n",
        "        max_tokens: int = 512,\n",
        "    ) -> str:\n",
        "        headers = {\n",
        "            \"Authorization\": f\"Bearer {self.api_key}\",\n",
        "            \"Content-Type\": \"application/json\",\n",
        "        }\n",
        "        payload = {\n",
        "            \"model\": self.model_name,\n",
        "            \"messages\": messages,\n",
        "            \"temperature\": temperature,\n",
        "            \"max_tokens\": max_tokens,\n",
        "        }\n",
        "        try:\n",
        "            response = requests.post(self.endpoint, json=payload, headers=headers)\n",
        "            response.raise_for_status()\n",
        "            data = response.json()\n",
        "            return data[\"choices\"][0][\"message\"][\"content\"]\n",
        "        except requests.RequestException as e:\n",
        "            raise RuntimeError(f\"OpenRouter API request failed: {e}\")\n",
        "\n"
      ]
    },
    {
      "cell_type": "code",
      "execution_count": null,
      "metadata": {
        "id": "oJNCFLdUInSd"
      },
      "outputs": [],
      "source": [
        "\n",
        "class QuestionGenerationAgent(Agent):\n",
        "    \"\"\"Agent to generate thoughtful questions from text.\"\"\"\n",
        "\n",
        "    def __init__(self, llm: OpenRouterLLM):\n",
        "        self.llm = llm\n",
        "\n",
        "    def run(self, text: str) -> str:\n",
        "        system_prompt = \"You are a helpful assistant who generates thoughtful questions.\"\n",
        "        user_prompt = (\n",
        "            f\"Create 5 thoughtful questions based on the following text:\\n\\n{text}\\n\\nQuestions:\"\n",
        "        )\n",
        "        messages = [\n",
        "            {\"role\": \"system\", \"content\": system_prompt},\n",
        "            {\"role\": \"user\", \"content\": user_prompt},\n",
        "        ]\n",
        "        return self.llm.call(messages)\n",
        "\n"
      ]
    },
    {
      "cell_type": "code",
      "execution_count": null,
      "metadata": {
        "id": "bu7L6ikYIphI"
      },
      "outputs": [],
      "source": [
        "class AnswerAgent(Agent):\n",
        "    \"\"\"Agent to answer questions based on a text.\"\"\"\n",
        "\n",
        "    def __init__(self, llm: OpenRouterLLM):\n",
        "        self.llm = llm\n",
        "\n",
        "    def run(self, text: str, questions: str) -> str:\n",
        "        system_prompt = \"You are an expert tutor who provides detailed answers.\"\n",
        "        user_prompt = (\n",
        "            f\"Given the following text:\\n\\n{text}\\n\\n\"\n",
        "            f\"Provide detailed answers to these questions:\\n{questions}\"\n",
        "        )\n",
        "        messages = [\n",
        "            {\"role\": \"system\", \"content\": system_prompt},\n",
        "            {\"role\": \"user\", \"content\": user_prompt},\n",
        "        ]\n",
        "        return self.llm.call(messages)\n"
      ]
    },
    {
      "cell_type": "code",
      "execution_count": null,
      "metadata": {
        "id": "tji08_wzItSB"
      },
      "outputs": [],
      "source": [
        "class SummaryAgent(Agent):\n",
        "    \"\"\"Agent to summarize text concisely.\"\"\"\n",
        "\n",
        "    def __init__(self, llm: OpenRouterLLM):\n",
        "        self.llm = llm\n",
        "\n",
        "    def run(self, text: str) -> str:\n",
        "        system_prompt = \"You are a concise summarizer.\"\n",
        "        user_prompt = f\"Summarize the following text in a concise paragraph:\\n\\n{text}\"\n",
        "        messages = [\n",
        "            {\"role\": \"system\", \"content\": system_prompt},\n",
        "            {\"role\": \"user\", \"content\": user_prompt},\n",
        "        ]\n",
        "        return self.llm.call(messages)"
      ]
    },
    {
      "cell_type": "code",
      "execution_count": null,
      "metadata": {
        "id": "v-iZrjtxIv6D"
      },
      "outputs": [],
      "source": [
        "class LearningStudyAssistant(Agent):\n",
        "    \"\"\"Orchestrator Agent combining question generation, answering, and summarization.\"\"\"\n",
        "\n",
        "    def __init__(self, llm: OpenRouterLLM):\n",
        "        self.question_agent = QuestionGenerationAgent(llm)\n",
        "        self.answer_agent = AnswerAgent(llm)\n",
        "        self.summary_agent = SummaryAgent(llm)\n",
        "\n",
        "    def run(self, text: str) -> Dict[str, str]:\n",
        "        questions = self.question_agent.run(text)\n",
        "        answers = self.answer_agent.run(text, questions)\n",
        "        summary = self.summary_agent.run(text)\n",
        "        return {\n",
        "            \"questions\": questions.strip(),\n",
        "            \"answers\": answers.strip(),\n",
        "            \"summary\": summary.strip(),\n",
        "        }"
      ]
    },
    {
      "cell_type": "code",
      "execution_count": null,
      "metadata": {
        "colab": {
          "base_uri": "https://localhost:8080/"
        },
        "id": "m125h2bnIyB9",
        "outputId": "8478044c-89d9-49dd-cc34-e1047061dbb1"
      },
      "outputs": [
        {
          "name": "stdout",
          "output_type": "stream",
          "text": [
            "Questions:\n",
            " 1. How do the structural differences between prokaryotic and eukaryotic cells influence their respective functions and roles in the environment?\n",
            "\n",
            "2. In what ways do the organelles within eukaryotic cells collaborate to maintain homeostasis and support the overall functionality of the cell?\n",
            "\n",
            "3. How does the process of cellular respiration relate to photosynthesis, and why is this relationship essential for the survival of both plants and animals?\n",
            "\n",
            "4. What are the implications of errors that occur during mitosis and meiosis, and how can these errors affect an organism's development or reproduction?\n",
            "\n",
            "5. How might advancements in our understanding of cellular functions and organelle roles contribute to medical science, particularly in the treatment of diseases related to cell dysfunction?\n",
            "\n",
            "Answers:\n",
            " ### 1. Structural Differences Between Prokaryotic and Eukaryotic Cells\n",
            "\n",
            "Prokaryotic cells are simpler and smaller than eukaryotic cells and lack a nucleus and membrane-bound organelles. This structural simplicity allows them to reproduce rapidly and adapt quickly to environmental changes, making them highly effective in diverse ecosystems. They often have a rigid cell wall that provides structural support and protection, which is crucial for survival in varying environments. \n",
            "\n",
            "Eukaryotic cells, on the other hand, are more complex and larger, with a defined nucleus that houses genetic material and various organelles that compartmentalize cellular functions. This compartmentalization enables eukaryotic cells to perform more specialized and complex functions, such as cellular respiration in mitochondria and photosynthesis in chloroplasts. \n",
            "\n",
            "The structural differences mean that prokaryotic cells often function as independent organisms (like bacteria) and can thrive in extreme environments, while eukaryotic cells can form multicellular organisms, allowing for specialization of cells into tissues and organs. This specialization supports complex life forms and ecosystems where different species interact.\n",
            "\n",
            "### 2. Collaboration of Organelles in Eukaryotic Cells\n",
            "\n",
            "Eukaryotic organelles work together in a highly coordinated manner to maintain homeostasis and overall cell functionality. For example:\n",
            "\n",
            "- **Nucleus**: The nucleus stores DNA, which contains the instructions for producing proteins. This genetic information is transcribed into mRNA.\n",
            "\n",
            "- **Ribosomes**: Once the mRNA is synthesized, it travels to ribosomes (either free in the cytoplasm or attached to the rough endoplasmic reticulum) where proteins are synthesized.\n",
            "\n",
            "- **Endoplasmic Reticulum (ER)**: The rough ER synthesizes proteins that are then folded and modified. The smooth ER synthesizes lipids that are essential for membrane formation and other cellular functions.\n",
            "\n",
            "- **Golgi Apparatus**: After synthesis, proteins and lipids are sent to the Golgi apparatus for further modification, sorting, and packaging. This ensures that they reach their correct destinations either inside or outside the cell.\n",
            "\n",
            "- **Lysosomes**: They digest waste materials and cellular debris, ensuring that the cell remains clean and functional.\n",
            "\n",
            "- **Mitochondria**: They provide ATP, the energy currency, which powers all cellular activities.\n",
            "\n",
            "The interaction and collaboration among these organelles enable the cell to respond to changes in the environment, regulate internal conditions, and ensure efficient metabolism and energy use.\n",
            "\n",
            "### 3. Relationship Between Cellular Respiration and Photosynthesis\n",
            "\n",
            "Photos\n",
            "\n",
            "Summary:\n",
            " Cells are the fundamental units of life, categorized into prokaryotic cells, which lack a nucleus and organelles (e.g., bacteria), and eukaryotic cells, which contain a nucleus and various organelles (e.g., plants and animals). Key organelles include the nucleus (controls activities and contains DNA), mitochondria (produces energy), ribosomes (synthesize proteins), endoplasmic reticulum (synthesizes proteins and lipids), Golgi apparatus (modifies and packages substances), lysosomes (digest waste), and chloroplasts (sites of photosynthesis in plants). Cell division occurs through mitosis, creating identical daughter cells, and meiosis, producing gametes with half the chromosome number. Photosynthesis converts light into chemical energy, while cellular respiration breaks down glucose to generate ATP.\n"
          ]
        }
      ],
      "source": [
        "\n",
        "\n",
        "if __name__ == \"__main__\":\n",
        "    API_KEY = \"key\"\n",
        "    llm = OpenRouterLLM(API_KEY)\n",
        "    assistant = LearningStudyAssistant(llm)\n",
        "\n",
        "    input_text = \"\"\"Biology Notes: The Cell and Its Functions\n",
        "\n",
        "The cell is the basic unit of life. All living organisms are composed of cells, which carry out essential life processes. There are two main types of cells: prokaryotic and eukaryotic.\n",
        "\n",
        "Prokaryotic cells lack a nucleus and membrane-bound organelles. Examples include bacteria and archaea.\n",
        "\n",
        "Eukaryotic cells have a defined nucleus and various organelles. They are found in plants, animals, fungi, and protists.\n",
        "\n",
        "Key Organelles and Their Functions:\n",
        "\n",
        "Nucleus: Contains genetic material (DNA) and controls cellular activities.\n",
        "\n",
        "Mitochondria: The powerhouse of the cell; site of cellular respiration and energy (ATP) production.\n",
        "\n",
        "Ribosomes: Sites of protein synthesis.\n",
        "\n",
        "Endoplasmic Reticulum (ER): Rough ER has ribosomes and synthesizes proteins; smooth ER synthesizes lipids.\n",
        "\n",
        "Golgi Apparatus: Modifies, sorts, and packages proteins and lipids for secretion or use within the cell.\n",
        "\n",
        "Lysosomes: Contain enzymes for digestion of cellular waste and foreign material.\n",
        "\n",
        "Chloroplasts: Present in plant cells; sites of photosynthesis.\n",
        "\n",
        "Cell Membrane: Semi-permeable membrane controlling the movement of substances in and out of the cell.\n",
        "\n",
        "Cell Division:\n",
        "\n",
        "Mitosis: Process by which a eukaryotic cell divides to produce two genetically identical daughter cells.\n",
        "\n",
        "Meiosis: Specialized cell division producing gametes (sperm and egg) with half the chromosome number.\n",
        "\n",
        "Photosynthesis and Respiration:\n",
        "\n",
        "Photosynthesis converts light energy into chemical energy stored in glucose.\n",
        "\n",
        "Cellular respiration breaks down glucose to produce ATP, the energy currency of the cell.\"\"\"\n",
        "\n",
        "    results = assistant.run(input_text)\n",
        "\n",
        "    print(\"Questions:\\n\", results[\"questions\"])\n",
        "    print(\"\\nAnswers:\\n\", results[\"answers\"])\n",
        "    print(\"\\nSummary:\\n\", results[\"summary\"])\n"
      ]
    },
    {
      "cell_type": "code",
      "execution_count": null,
      "metadata": {
        "colab": {
          "base_uri": "https://localhost:8080/",
          "height": 591
        },
        "id": "oWW6b6TaJeCl",
        "outputId": "4b8e6389-f99d-427f-a968-4d019cfd5a6b"
      },
      "outputs": [
        {
          "name": "stdout",
          "output_type": "stream",
          "text": [
            "Colab notebook detected. To show errors in colab notebook, set debug=True in launch()\n",
            "* Running on public URL: https://1488920b38cb4b449f.gradio.live\n",
            "\n",
            "This share link expires in 1 week. For free permanent hosting and GPU upgrades, run `gradio deploy` from the terminal in the working directory to deploy to Hugging Face Spaces (https://huggingface.co/spaces)\n"
          ]
        },
        {
          "data": {
            "text/html": [
              "<div><iframe src=\"https://1488920b38cb4b449f.gradio.live\" width=\"100%\" height=\"500\" allow=\"autoplay; camera; microphone; clipboard-read; clipboard-write;\" frameborder=\"0\" allowfullscreen></iframe></div>"
            ],
            "text/plain": [
              "<IPython.core.display.HTML object>"
            ]
          },
          "metadata": {},
          "output_type": "display_data"
        }
      ],
      "source": [
        "import gradio as gr\n",
        "API_KEY = \"key\"\n",
        "llm = OpenRouterLLM(API_KEY)\n",
        "assistant = LearningStudyAssistant(llm)\n",
        "\n",
        "def process_notes(notes):\n",
        "    results = assistant.run(notes)\n",
        "    questions = results[\"questions\"]\n",
        "    answers = results[\"answers\"]\n",
        "    summary = results[\"summary\"]\n",
        "    return questions, answers, summary\n",
        "\n",
        "iface = gr.Interface(\n",
        "    fn=process_notes,\n",
        "    inputs=gr.Textbox(\n",
        "        label=\"Enter your biology notes\",\n",
        "        placeholder=\"Paste your biology notes here...\",\n",
        "        lines=15,\n",
        "    ),\n",
        "    outputs=[\n",
        "        gr.Textbox(label=\"Generated Questions\"),\n",
        "        gr.Textbox(label=\"Generated Answers\"),\n",
        "        gr.Textbox(label=\"Summary\"),\n",
        "    ],\n",
        "    title=\"Biology Notes Analyzer\",\n",
        "    description=\"This tool takes in your biology notes and generates questions, answers, and a summary for better studying.\",\n",
        "    theme=\"default\",\n",
        ")\n",
        "\n",
        "if __name__ == \"__main__\":\n",
        "    iface.launch(share=True)"
      ]
    },
    {
      "cell_type": "code",
      "execution_count": null,
      "metadata": {
        "id": "M-PWCkISIzXS"
      },
      "outputs": [],
      "source": []
    }
  ],
  "metadata": {
    "colab": {
      "provenance": []
    },
    "kernelspec": {
      "display_name": "Python 3",
      "name": "python3"
    },
    "language_info": {
      "name": "python"
    }
  },
  "nbformat": 4,
  "nbformat_minor": 0
}
